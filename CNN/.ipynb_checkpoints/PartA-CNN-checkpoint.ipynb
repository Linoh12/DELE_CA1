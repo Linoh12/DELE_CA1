{
 "cells": [
  {
   "cell_type": "markdown",
   "metadata": {},
   "source": [
    "# Importing Libs and Data"
   ]
  },
  {
   "cell_type": "code",
   "execution_count": 1,
   "metadata": {},
   "outputs": [
    {
     "name": "stdout",
     "output_type": "stream",
     "text": [
      "[PhysicalDevice(name='/physical_device:CPU:0', device_type='CPU')]\n"
     ]
    },
    {
     "name": "stderr",
     "output_type": "stream",
     "text": [
      "Intel(R) Extension for Scikit-learn* enabled (https://github.com/intel/scikit-learn-intelex)\n"
     ]
    }
   ],
   "source": [
    "import tensorflow as tf\n",
    "import numpy as np\n",
    "import pandas as pd\n",
    "from sklearnex import patch_sklearn\n",
    "import os\n",
    "import PIL\n",
    "\n",
    "patch_sklearn()\n",
    "print(tf.config.list_physical_devices())"
   ]
  },
  {
   "cell_type": "code",
   "execution_count": 13,
   "metadata": {},
   "outputs": [
    {
     "data": {
      "text/html": [
       "<div>\n",
       "<style scoped>\n",
       "    .dataframe tbody tr th:only-of-type {\n",
       "        vertical-align: middle;\n",
       "    }\n",
       "\n",
       "    .dataframe tbody tr th {\n",
       "        vertical-align: top;\n",
       "    }\n",
       "\n",
       "    .dataframe thead th {\n",
       "        text-align: right;\n",
       "    }\n",
       "</style>\n",
       "<table border=\"1\" class=\"dataframe\">\n",
       "  <thead>\n",
       "    <tr style=\"text-align: right;\">\n",
       "      <th></th>\n",
       "      <th>filename</th>\n",
       "      <th>label</th>\n",
       "      <th>img</th>\n",
       "    </tr>\n",
       "  </thead>\n",
       "  <tbody>\n",
       "    <tr>\n",
       "      <th>0</th>\n",
       "      <td>0001.jpg</td>\n",
       "      <td>Bean</td>\n",
       "      <td>((tf.Tensor(61, shape=(), dtype=uint8), tf.Ten...</td>\n",
       "    </tr>\n",
       "    <tr>\n",
       "      <th>1</th>\n",
       "      <td>0002.jpg</td>\n",
       "      <td>Bean</td>\n",
       "      <td>((tf.Tensor(93, shape=(), dtype=uint8), tf.Ten...</td>\n",
       "    </tr>\n",
       "    <tr>\n",
       "      <th>2</th>\n",
       "      <td>0003.jpg</td>\n",
       "      <td>Bean</td>\n",
       "      <td>((tf.Tensor(134, shape=(), dtype=uint8), tf.Te...</td>\n",
       "    </tr>\n",
       "    <tr>\n",
       "      <th>3</th>\n",
       "      <td>0004.jpg</td>\n",
       "      <td>Bean</td>\n",
       "      <td>((tf.Tensor(156, shape=(), dtype=uint8), tf.Te...</td>\n",
       "    </tr>\n",
       "    <tr>\n",
       "      <th>4</th>\n",
       "      <td>0005.jpg</td>\n",
       "      <td>Bean</td>\n",
       "      <td>((tf.Tensor(132, shape=(), dtype=uint8), tf.Te...</td>\n",
       "    </tr>\n",
       "    <tr>\n",
       "      <th>...</th>\n",
       "      <td>...</td>\n",
       "      <td>...</td>\n",
       "      <td>...</td>\n",
       "    </tr>\n",
       "    <tr>\n",
       "      <th>2995</th>\n",
       "      <td>1196.jpg</td>\n",
       "      <td>Tomato</td>\n",
       "      <td>((tf.Tensor(114, shape=(), dtype=uint8), tf.Te...</td>\n",
       "    </tr>\n",
       "    <tr>\n",
       "      <th>2996</th>\n",
       "      <td>1197.jpg</td>\n",
       "      <td>Tomato</td>\n",
       "      <td>((tf.Tensor(196, shape=(), dtype=uint8), tf.Te...</td>\n",
       "    </tr>\n",
       "    <tr>\n",
       "      <th>2997</th>\n",
       "      <td>1198.jpg</td>\n",
       "      <td>Tomato</td>\n",
       "      <td>((tf.Tensor(240, shape=(), dtype=uint8), tf.Te...</td>\n",
       "    </tr>\n",
       "    <tr>\n",
       "      <th>2998</th>\n",
       "      <td>1199.jpg</td>\n",
       "      <td>Tomato</td>\n",
       "      <td>((tf.Tensor(221, shape=(), dtype=uint8), tf.Te...</td>\n",
       "    </tr>\n",
       "    <tr>\n",
       "      <th>2999</th>\n",
       "      <td>1200.jpg</td>\n",
       "      <td>Tomato</td>\n",
       "      <td>((tf.Tensor(123, shape=(), dtype=uint8), tf.Te...</td>\n",
       "    </tr>\n",
       "  </tbody>\n",
       "</table>\n",
       "<p>3000 rows × 3 columns</p>\n",
       "</div>"
      ],
      "text/plain": [
       "      filename   label                                                img\n",
       "0     0001.jpg    Bean  ((tf.Tensor(61, shape=(), dtype=uint8), tf.Ten...\n",
       "1     0002.jpg    Bean  ((tf.Tensor(93, shape=(), dtype=uint8), tf.Ten...\n",
       "2     0003.jpg    Bean  ((tf.Tensor(134, shape=(), dtype=uint8), tf.Te...\n",
       "3     0004.jpg    Bean  ((tf.Tensor(156, shape=(), dtype=uint8), tf.Te...\n",
       "4     0005.jpg    Bean  ((tf.Tensor(132, shape=(), dtype=uint8), tf.Te...\n",
       "...        ...     ...                                                ...\n",
       "2995  1196.jpg  Tomato  ((tf.Tensor(114, shape=(), dtype=uint8), tf.Te...\n",
       "2996  1197.jpg  Tomato  ((tf.Tensor(196, shape=(), dtype=uint8), tf.Te...\n",
       "2997  1198.jpg  Tomato  ((tf.Tensor(240, shape=(), dtype=uint8), tf.Te...\n",
       "2998  1199.jpg  Tomato  ((tf.Tensor(221, shape=(), dtype=uint8), tf.Te...\n",
       "2999  1200.jpg  Tomato  ((tf.Tensor(123, shape=(), dtype=uint8), tf.Te...\n",
       "\n",
       "[3000 rows x 3 columns]"
      ]
     },
     "execution_count": 13,
     "metadata": {},
     "output_type": "execute_result"
    }
   ],
   "source": [
    "fp = './test'\n",
    "files = {'filename':[], 'label':[],'img':[]}\n",
    "with os.scandir(fp) as dir:\n",
    "    for entry in dir:\n",
    "        with os.scandir(f'{fp}/{entry.name}') as folder:\n",
    "            for img in folder:\n",
    "                # print(img.name)\n",
    "                files['filename'].append(img.name)\n",
    "                files['label'].append(entry.name)\n",
    "                files['img'].append(tf.convert_to_tensor(tf.keras.utils.load_img(f\"{fp}/{entry.name}/{img.name}\", color_mode='grayscale')))\n",
    "\n",
    "train = pd.DataFrame(files)\n",
    "train"
   ]
  }
 ],
 "metadata": {
  "kernelspec": {
   "display_name": "gpu_env",
   "language": "python",
   "name": "gpu_env"
  },
  "language_info": {
   "codemirror_mode": {
    "name": "ipython",
    "version": 3
   },
   "file_extension": ".py",
   "mimetype": "text/x-python",
   "name": "python",
   "nbconvert_exporter": "python",
   "pygments_lexer": "ipython3",
   "version": "3.8.18"
  }
 },
 "nbformat": 4,
 "nbformat_minor": 2
}
